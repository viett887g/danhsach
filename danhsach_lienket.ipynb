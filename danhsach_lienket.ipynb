{
  "nbformat": 4,
  "nbformat_minor": 0,
  "metadata": {
    "colab": {
      "name": "danhsach_lienket.ipynb",
      "provenance": [],
      "authorship_tag": "ABX9TyOuiHc6IFLLGZGH0npUTRgz",
      "include_colab_link": true
    },
    "kernelspec": {
      "name": "python3",
      "display_name": "Python 3"
    },
    "language_info": {
      "name": "python"
    }
  },
  "cells": [
    {
      "cell_type": "markdown",
      "metadata": {
        "id": "view-in-github",
        "colab_type": "text"
      },
      "source": [
        "<a href=\"https://colab.research.google.com/github/viett887g/danhsach/blob/main/danhsach_lienket.ipynb\" target=\"_parent\"><img src=\"https://colab.research.google.com/assets/colab-badge.svg\" alt=\"Open In Colab\"/></a>"
      ]
    },
    {
      "cell_type": "code",
      "execution_count": 6,
      "metadata": {
        "id": "OBQRHKBZGvdk"
      },
      "outputs": [],
      "source": [
        "class Node:\n",
        "  def __init__(self, data=None):\n",
        "    self.data= data\n",
        "    self.next = None\n",
        "\n",
        "class SingleLinedList:\n",
        "  def __init__(self):\n",
        "    self.tail = None\n",
        "    self.head= None\n",
        "    self.count=0\n",
        "  def iter(self):\n",
        "    current = self.tail\n",
        "    while current:\n",
        "      val = current.data\n",
        "      current = current.next\n",
        "      yield val\n",
        "\n",
        "  def append(self, data):\n",
        "    node = Node(data)\n",
        "    if self.head:\n",
        "      self.head.next= node\n",
        "      self.head= node\n",
        "    else:\n",
        "      self.tail= node\n",
        "      self.head= node\n",
        "    self.count +=1\n",
        "\n",
        "  def search(self, data):\n",
        "    for node in self.iter():\n",
        "      if data== node:\n",
        "        return True\n",
        "    return False\n",
        "  def delete(self, data):\n",
        "    current = self.tail\n",
        "    prev = self.tail\n",
        "    while current:\n",
        "      if current.data==data:\n",
        "        if current == self.tail:\n",
        "          self.tail = current.next\n",
        "        else:\n",
        "          prev.next = current.next\n",
        "        self.count -=1\n",
        "        return\n",
        "      prev = current\n",
        "      current = current.next\n",
        "  def __getitem__(self, index):\n",
        "    if index > self.count -1:\n",
        "      raise Exception(\"Index out of range\")\n",
        "    current= self.tail\n",
        "    for n in range(index):\n",
        "      current= current.next\n",
        "    return current.data\n",
        "  def __setitem__(self,index, value):\n",
        "    if index > self.count -1:\n",
        "      raise Exception(\"Index out of range\")\n",
        "    current= self.tail\n",
        "    for n in range(index):\n",
        "      current= current.next\n",
        "    current.data= value\n"
      ]
    },
    {
      "cell_type": "code",
      "source": [
        "danhsach = SingleLinedList()\n",
        "danhsach.append('saefhwjw')\n",
        "danhsach.append('awgfwq3g')\n",
        "danhsach.append('wagfq2wq')\n",
        "danhsach.append('awgfqeqaaawd')\n",
        "danhsach.append('af3twhsrsgfaw')\n",
        "danhsach.append('wgrherw4wg')"
      ],
      "metadata": {
        "id": "g__JOii0HA5F"
      },
      "execution_count": 8,
      "outputs": []
    },
    {
      "cell_type": "code",
      "source": [
        "print(\"node so 1: {}\".format(danhsach[3]))"
      ],
      "metadata": {
        "colab": {
          "base_uri": "https://localhost:8080/"
        },
        "id": "SqznoN-xG7Ov",
        "outputId": "34c8017f-f860-4d38-d3fa-9b49ad5af115"
      },
      "execution_count": 9,
      "outputs": [
        {
          "output_type": "stream",
          "name": "stdout",
          "text": [
            "node so 1: awgfqeqaaawd\n"
          ]
        }
      ]
    }
  ]
}